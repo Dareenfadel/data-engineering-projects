{
 "cells": [
  {
   "cell_type": "markdown",
   "id": "985fd83e",
   "metadata": {},
   "source": [
    "## 1  Loading the dataset"
   ]
  },
  {
   "cell_type": "code",
   "execution_count": 38,
   "id": "387fa90d-e6cf-4f39-bcea-0549c8aa9902",
   "metadata": {},
   "outputs": [
    {
     "name": "stdout",
     "output_type": "stream",
     "text": [
      "Preview of first 20 rows:\n",
      "+--------------------+--------------------+----------+--------------+----------+----------------+-------------------+--------+----------+-----------+-----------+-------+---------------+-----------+-----+-------------+----------+--------+-----+-----------------+----------+----------+------------------+--------------------+\n",
      "|         Customer Id|           Emp Title|Emp Length|Home Ownership|Annual Inc|Annual Inc Joint|Verification Status|Zip Code|Addr State|Avg Cur Bal|Tot Cur Bal|Loan Id|    Loan Status|Loan Amount|State|Funded Amount|      Term|Int Rate|Grade|       Issue Date|Pymnt Plan|      Type|           Purpose|         Description|\n",
      "+--------------------+--------------------+----------+--------------+----------+----------------+-------------------+--------+----------+-----------+-----------+-------+---------------+-----------+-----+-------------+----------+--------+-----+-----------------+----------+----------+------------------+--------------------+\n",
      "|YichUndceGIwVUxce...|         Underwrirer| 10+ years|      MORTGAGE|   90000.0|            NULL|           Verified|   346xx|        FL|    27978.0|   335738.0|  70935|        Current|     8400.0|   FL|       8400.0| 36 months|  0.0881|    4|  19 January 2019|     false|Individual|debt_consolidation|  Debt consolidation|\n",
      "|YidceDk4O1x4ZWZce...|Regional sales Ex...|   4 years|          RENT|   72000.0|            NULL|    Source Verified|   640xx|        MO|     2098.0|    33560.0|  63172|     Fully Paid|     8000.0|   MO|       8000.0| 36 months|  0.0789|    1|     15 July 2015|     false|Individual|  home_improvement|    Home improvement|\n",
      "|YiciXHhmZEU5XHgxZ...|Library Specialis...|   2 years|          RENT|   40000.0|            NULL|    Source Verified|   201xx|        VA|    17544.0|   140349.0|  14799|In Grace Period|     3500.0|   VA|       3500.0| 36 months|  0.1806|   18|     17 July 2017|     false|Individual|             other|               Other|\n",
      "|Yic9XHhjYX5ceGQ0X...|            Attorney|   3 years|      MORTGAGE|  120000.0|            NULL|           Verified|   303xx|        GA|    10021.0|   210444.0| 259816|     Fully Paid|    35000.0|   GA|      35000.0| 60 months|  0.1531|   11| 16 February 2016|     false|INDIVIDUAL|debt_consolidation|  Debt consolidation|\n",
      "|YidceDk4aVx4YzJce...|               owner|   8 years|          RENT|   55000.0|            NULL|       Not Verified|   333xx|        FL|     4200.0|    16800.0| 191729|        Current|    20000.0|   FL|      20000.0| 36 months|  0.1049|    7|     16 July 2016|     false|INDIVIDUAL|debt_consolidation|  Debt consolidation|\n",
      "|YiIsX1x4ZDZcdCVce...|        Surveillance|    1 year|           OWN|   35000.0|            NULL|    Source Verified|   724xx|        AR|     8693.0|   139091.0|  10274|        Current|     3000.0|   AR|       3000.0| 36 months|  0.1139|    6|    17 April 2017|     false|Individual|debt_consolidation|  Debt consolidation|\n",
      "|YidceGJlalx4YmFce...|                NULL|      NULL|          RENT|   16048.0|            NULL|           Verified|   283xx|        NC|     3186.0|    28677.0|  35780|        Current|     5375.0|   NC|       5375.0| 36 months|  0.1924|   23| 14 November 2014|     false|INDIVIDUAL|  home_improvement|    Home improvement|\n",
      "|YidceGNlXHgwYmFAX...|                  PT|   6 years|           OWN|  103000.0|            NULL|       Not Verified|   785xx|        TX|     9124.0|    54746.0| 148966|        Current|    15000.0|   TX|      15000.0| 36 months|  0.0944|    7| 18 February 2018|     false|Individual|debt_consolidation|  Debt consolidation|\n",
      "|YidceGNidlx4YTRMX...|   Logistics Analyst|   4 years|          RENT|   69000.0|            NULL|    Source Verified|   234xx|        VA|     4313.0|    90578.0|  93464|     Fully Paid|    10000.0|   VA|      10000.0| 36 months|  0.1262|   13| 17 December 2017|     false|Individual|debt_consolidation|  Debt consolidation|\n",
      "|YidceDliXHgwZSFyX...|Veteran's Service...| 10+ years|      MORTGAGE|   75000.0|            NULL|    Source Verified|   390xx|        MS|    34402.0|   240811.0|  27812|        Current|     5000.0|   MS|       5000.0| 36 months|  0.0944|   10|     17 June 2017|     false|Individual|  home_improvement|    Home improvement|\n",
      "|YidofDM1XHhiYVx4Y...| Master Tax Advisor | 10+ years|      MORTGAGE|  100000.0|            NULL|       Not Verified|   846xx|        UT|    33159.0|   232113.0| 198304|        Current|    20000.0|   UT|      20000.0| 60 months|  0.1308|    7| 19 December 2019|     false|Individual|debt_consolidation|  Debt consolidation|\n",
      "|YidceDlhXHg4OXhce...|Supplier Relation...|   3 years|           OWN|   75000.0|            NULL|       Not Verified|   237xx|        VA|     4081.0|    44887.0| 157667|        Current|    15000.0|   VA|      15000.0| 60 months|  0.1691|   15| 18 November 2018|     false|Individual|debt_consolidation|  Debt consolidation|\n",
      "|YidceGY1XHhkZlx4Z...|Front Desk Recept...|   9 years|      MORTGAGE|  200000.0|            NULL|    Source Verified|   117xx|        NY|    26588.0|   505166.0| 258183|        Current|    35000.0|   NY|      35000.0| 60 months|  0.1008|    6|  18 October 2018|     false|Individual|debt_consolidation|  Debt consolidation|\n",
      "|YidceGU2Vlx4YTFce...|   Building Engineer| 10+ years|      MORTGAGE|  110000.0|        181000.0|       Not Verified|   601xx|        IL|    43605.0|   261627.0| 258027|        Current|    35000.0|   IL|      35000.0| 60 months|  0.0881|    3|19 September 2019|     false| Joint App|debt_consolidation|  Debt consolidation|\n",
      "|YidxXHgwOFx4MDdmX...|      QC Lab Manager|  < 1 year|      MORTGAGE|   95000.0|            NULL|           Verified|   752xx|        TX|    29202.0|   292016.0| 220190|        Current|    24000.0|   TX|      24000.0| 60 months|  0.1919|   25|   15 August 2015|     false|Individual|       credit_card|Credit card refin...|\n",
      "|YidceGEyXHg5OSVce...|     Software Tester| 10+ years|      MORTGAGE|   70000.0|            NULL|    Source Verified|   972xx|        OR|    33053.0|   231368.0| 221131|     Fully Paid|    24500.0|   OR|      24500.0| 36 months|  0.0839|    2|     14 June 2014|     false|INDIVIDUAL|debt_consolidation|  Debt consolidation|\n",
      "|YidceGM5XHg5ZFMqX...|Installation Foreman| 10+ years|          RENT|   70000.0|            NULL|       Not Verified|   196xx|        PA|     3941.0|    19705.0| 214015|        Current|    23925.0|   PA|      23925.0| 60 months|  0.1308|    7|    19 April 2019|     false|Individual|               car|       Car financing|\n",
      "|YidceGM1XHgxM1x4Y...|    Registered nurse| 10+ years|      MORTGAGE|   98000.0|            NULL|           Verified|   372xx|        TN|    17948.0|   251272.0| 182958|     Fully Paid|    18725.0|   TN|      18725.0| 36 months|  0.1499|   12|    17 April 2017|     false|Individual|debt_consolidation|  Debt consolidation|\n",
      "|YidceDAwSlx4OGNce...|             Teacher|    1 year|          RENT|   60000.0|            NULL|       Not Verified|   941xx|        CA|    14960.0|   104719.0| 125969|     Fully Paid|    12000.0|   CA|      12000.0| 60 months|  0.1366|   14|  15 January 2015|     false|Individual|debt_consolidation|  Debt consolidation|\n",
      "|YidceDE0OGtceGRlX...|                NULL|      NULL|      MORTGAGE|   31176.0|         45444.0|       Not Verified|   984xx|        WA|    42423.0|   254538.0|  38270|     Fully Paid|     5725.0|   WA|       5725.0| 36 months|  0.0944|    6|     17 June 2017|     false| Joint App|       credit_card|Credit card refin...|\n",
      "+--------------------+--------------------+----------+--------------+----------+----------------+-------------------+--------+----------+-----------+-----------+-------+---------------+-----------+-----+-------------+----------+--------+-----+-----------------+----------+----------+------------------+--------------------+\n",
      "only showing top 20 rows\n",
      "\n",
      "Initial number of partitions: 1\n",
      "Number of logical cores: 8\n",
      "New number of partitions: 8\n"
     ]
    }
   ],
   "source": [
    "# from pyspark.sql import SparkSession\n",
    "\n",
    "# # Initialize SparkSession\n",
    "# spark = SparkSession.builder .appName(\"MS3\")  .getOrCreate()\n",
    "\n",
    "import pyspark\n",
    "from pyspark.sql import SparkSession\n",
    "from pyspark.sql import Row\n",
    "spark = SparkSession.builder.config(\"spark.jars\", \"/root/.docker/run/postgresql-42.7.4.jar\") \\\n",
    "\t.master(\"local\").appName(\"MS3\").getOrCreate()\n",
    "\n",
    "\n",
    "# Load the dataset\n",
    "dataset_path = \"fintech_data_30_52_21362.parquet\"  # Replace with the actual path\n",
    "df = spark.read.parquet(dataset_path)\n",
    "\n",
    "# Preview first 20 rows\n",
    "print(\"Preview of first 20 rows:\")\n",
    "df.show(20)\n",
    "\n",
    "# Check the number of partitions\n",
    "initial_partitions = df.rdd.getNumPartitions()\n",
    "print(f\"Initial number of partitions: {initial_partitions}\")\n",
    "\n",
    "# Get the number of logical cores\n",
    "import os\n",
    "logical_cores = os.cpu_count()\n",
    "print(f\"Number of logical cores: {logical_cores}\")\n",
    "\n",
    "# Repartition the DataFrame\n",
    "df_repartitioned = df.repartition(logical_cores)\n",
    "\n",
    "# Verify the new number of partitions\n",
    "new_partitions = df_repartitioned.rdd.getNumPartitions()\n",
    "print(f\"New number of partitions: {new_partitions}\")\n"
   ]
  },
  {
   "cell_type": "markdown",
   "id": "19e22f70",
   "metadata": {},
   "source": [
    "## 2  Cleaning"
   ]
  },
  {
   "cell_type": "markdown",
   "id": "de803519",
   "metadata": {},
   "source": [
    "### a. rename columns"
   ]
  },
  {
   "cell_type": "code",
   "execution_count": 39,
   "id": "056c2831",
   "metadata": {},
   "outputs": [],
   "source": [
    "from pyspark.sql import functions as F\n",
    "from pyspark.sql import DataFrame\n",
    "from pyspark.sql.types import StringType, NumericType\n",
    "\n",
    "# Rename columns: replace spaces with underscores and convert to lowercase\n",
    "def rename_columns(df: DataFrame) -> DataFrame:\n",
    "    for col in df.columns:\n",
    "        df = df.withColumnRenamed(col, col.replace(\" \", \"_\").lower())\n",
    "    return df\n",
    "\n",
    "df = rename_columns(df)\n",
    "\n"
   ]
  },
  {
   "cell_type": "markdown",
   "id": "ccb435c9",
   "metadata": {},
   "source": [
    "### b. calculate missing values and handle them"
   ]
  },
  {
   "cell_type": "code",
   "execution_count": 40,
   "id": "88e1e1e1-46a1-45c2-b434-30de31d01cfa",
   "metadata": {},
   "outputs": [
    {
     "name": "stdout",
     "output_type": "stream",
     "text": [
      "Missing values info:\n",
      "customer_id: 0.00%\n",
      "emp_title: 9.10%\n",
      "emp_length: 7.14%\n",
      "home_ownership: 0.00%\n",
      "annual_inc: 0.00%\n",
      "annual_inc_joint: 93.05%\n",
      "verification_status: 0.00%\n",
      "zip_code: 0.00%\n",
      "addr_state: 0.00%\n",
      "avg_cur_bal: 0.00%\n",
      "tot_cur_bal: 0.00%\n",
      "loan_id: 0.00%\n",
      "loan_status: 0.00%\n",
      "loan_amount: 0.00%\n",
      "state: 0.00%\n",
      "funded_amount: 0.00%\n",
      "term: 0.00%\n",
      "int_rate: 4.62%\n",
      "grade: 0.00%\n",
      "issue_date: 0.00%\n",
      "pymnt_plan: 0.00%\n",
      "type: 0.00%\n",
      "purpose: 0.00%\n",
      "description: 0.88%\n"
     ]
    }
   ],
   "source": [
    "\n",
    "# Function to calculate percentage of missing values\n",
    "def calculate_missing_percentage(df: DataFrame) -> dict:\n",
    "    total_rows = df.count()\n",
    "    missing_info = {}\n",
    "    for col in df.columns:\n",
    "        missing_count = df.filter(F.col(col).isNull()).count()\n",
    "        missing_percentage = (missing_count / total_rows) * 100\n",
    "        missing_info[col] = missing_percentage\n",
    "    return missing_info\n",
    "\n",
    "# Get missing info and print it\n",
    "missing_info = calculate_missing_percentage(df)\n",
    "print(\"Missing values info:\")\n",
    "for col, perc in missing_info.items():\n",
    "    print(f\"{col}: {perc:.2f}%\")\n",
    "\n"
   ]
  },
  {
   "cell_type": "code",
   "execution_count": 41,
   "id": "a929cc94",
   "metadata": {},
   "outputs": [
    {
     "name": "stdout",
     "output_type": "stream",
     "text": [
      "Missing values after handling:\n",
      "customer_id: 0.00%\n",
      "emp_title: 0.00%\n",
      "emp_length: 0.00%\n",
      "home_ownership: 0.00%\n",
      "annual_inc: 0.00%\n",
      "annual_inc_joint: 0.00%\n",
      "verification_status: 0.00%\n",
      "zip_code: 0.00%\n",
      "addr_state: 0.00%\n",
      "avg_cur_bal: 0.00%\n",
      "tot_cur_bal: 0.00%\n",
      "loan_id: 0.00%\n",
      "loan_status: 0.00%\n",
      "loan_amount: 0.00%\n",
      "state: 0.00%\n",
      "funded_amount: 0.00%\n",
      "term: 0.00%\n",
      "int_rate: 0.00%\n",
      "grade: 0.00%\n",
      "issue_date: 0.00%\n",
      "pymnt_plan: 0.00%\n",
      "type: 0.00%\n",
      "purpose: 0.00%\n",
      "description: 0.00%\n",
      "No missing values remain in the dataset.\n"
     ]
    }
   ],
   "source": [
    "# Handle missing values\n",
    "def handle_missing_values(df):\n",
    "    for col, dtype in df.dtypes:\n",
    "        if dtype == \"string\":\n",
    "            # Calculate the mode (most frequent value) for the column\n",
    "\n",
    "            mode_row = (\n",
    "                df.groupBy(col)\n",
    "                .count()\n",
    "                .orderBy(F.col(\"count\").desc())\n",
    "                .limit(1)\n",
    "            )\n",
    "            # Extract the mode value\n",
    "            mode_value = mode_row.collect()[0][col] \n",
    "\n",
    "            if mode_value is not None:\n",
    "                df = df.fillna({col: mode_value})\n",
    "            else:\n",
    "                mode_value= df.select(col).first()[0] \n",
    "                df = df.fillna({col: mode_value })\n",
    "        elif dtype in [\"int\", \"double\", \"float\"]:\n",
    "            # Replace missing numerical values with 0\n",
    "            df = df.fillna({col: 0})\n",
    "    return df\n",
    "\n",
    "# Apply the function to handle missing values\n",
    "df = handle_missing_values(df)\n",
    "\n",
    "# Verify no missing values remain\n",
    "missing_info_after = calculate_missing_percentage(df)\n",
    "print(\"Missing values after handling:\")\n",
    "for col, perc in missing_info_after.items():\n",
    "    print(f\"{col}: {perc:.2f}%\")\n",
    "\n",
    "assert all(perc == 0 for perc in missing_info_after.values()), \"Some columns still have missing values!\"\n",
    "print(\"No missing values remain in the dataset.\")\n"
   ]
  },
  {
   "cell_type": "markdown",
   "id": "d82be4d5",
   "metadata": {},
   "source": [
    "## 3 Encoding"
   ]
  },
  {
   "cell_type": "code",
   "execution_count": 42,
   "id": "631c1175",
   "metadata": {},
   "outputs": [],
   "source": [
    "from pyspark.sql import functions as F\n",
    "from pyspark.sql import types as T\n",
    "from pyspark.ml.feature import StringIndexer, OneHotEncoder\n",
    "\n",
    "# 1. Convert Emp Length to numerical\n",
    "def convert_emp_length_to_numeric(df):\n",
    "    emp_length_map = {\n",
    "        \"< 1 year\": 0,\n",
    "        \"1 year\": 1,\n",
    "        \"2 years\": 2,\n",
    "        \"3 years\": 3,\n",
    "        \"4 years\": 4,\n",
    "        \"5 years\": 5,\n",
    "        \"6 years\": 6,\n",
    "        \"7 years\": 7,\n",
    "        \"8 years\": 8,\n",
    "        \"9 years\": 9,\n",
    "        \"10+ years\": 10\n",
    "    }\n",
    "    # Start with the first condition\n",
    "    emp_length_column = F.when(F.col(\"emp_length\") == list(emp_length_map.keys())[0], list(emp_length_map.values())[0])\n",
    "    \n",
    "    # Add the rest of the conditions\n",
    "    for key, value in list(emp_length_map.items())[1:]:\n",
    "        emp_length_column = emp_length_column.when(F.col(\"emp_length\") == key, value)\n",
    "\n",
    "    # Apply 'otherwise' to handle the cases where emp_length doesn't match any of the values\n",
    "    emp_length_column = emp_length_column.otherwise(None)\n",
    "    \n",
    "    return df.withColumn(\"emp_length\", emp_length_column)\n"
   ]
  },
  {
   "cell_type": "code",
   "execution_count": 43,
   "id": "2a279039",
   "metadata": {},
   "outputs": [],
   "source": [
    "# 2. One-Hot Encoding for Home Ownership, Verification Status, Type\n",
    "from pyspark.sql.functions import when, col, lower\n",
    "\n",
    "def one_hot_encode_columns(df, cols):\n",
    "\n",
    "    for col_name in cols:\n",
    "        # Get unique values for the column\n",
    "        unique_values = [row[col_name] for row in df.select(col_name).distinct().collect()]\n",
    "        \n",
    "        # Create new columns for each unique value\n",
    "       \n",
    "        for value in unique_values:\n",
    "            new_col_name = f\"{col_name}_{value}\"\n",
    "            new_col_name=new_col_name.replace(\" \", \"_\").lower()# e.g., Home_Ownership_Rent\n",
    "            df = df.withColumn(new_col_name, when(lower(col(col_name)) == value.lower(), 1).otherwise(0))\n",
    "\n",
    "\n",
    "    return df"
   ]
  },
  {
   "cell_type": "code",
   "execution_count": 44,
   "id": "959fc8a7",
   "metadata": {},
   "outputs": [],
   "source": [
    "# 3. Label Encoding for State, Purpose\n",
    "def label_encode_columns(df, cols):\n",
    "    for col in cols:\n",
    "        indexer = StringIndexer(inputCol=col, outputCol=f\"{col}_label\", handleInvalid=\"skip\")\n",
    "        df = indexer.fit(df).transform(df)\n",
    "    return df"
   ]
  },
  {
   "cell_type": "code",
   "execution_count": 45,
   "id": "2cd2a145",
   "metadata": {},
   "outputs": [],
   "source": [
    "def discretize_grade(df):\n",
    "    # Convert the numeric grade to a letter grade\n",
    "    return df.withColumn(\n",
    "        \"grade_discretized\",\n",
    "        F.when((F.col(\"grade\") >= 1) & (F.col(\"grade\") <= 5), \"A\")\n",
    "        .when((F.col(\"grade\") >= 6) & (F.col(\"grade\") <= 10), \"B\")\n",
    "        .when((F.col(\"grade\") >= 11) & (F.col(\"grade\") <= 15), \"C\")\n",
    "        .when((F.col(\"grade\") >= 16) & (F.col(\"grade\") <= 20), \"D\")\n",
    "        .when((F.col(\"grade\") >= 21) & (F.col(\"grade\") <= 25), \"E\")\n",
    "        .when((F.col(\"grade\") >= 26) & (F.col(\"grade\") <= 30), \"F\")\n",
    "        .when((F.col(\"grade\") >= 31) & (F.col(\"grade\") <= 35), \"G\")\n",
    "        .otherwise(\"Unknown\")  # For any values outside the expected range\n",
    "    )"
   ]
  },
  {
   "cell_type": "code",
   "execution_count": 46,
   "id": "ed05105e",
   "metadata": {},
   "outputs": [
    {
     "name": "stdout",
     "output_type": "stream",
     "text": [
      "+--------------------+--------------------+----------+--------------+----------+----------------+-------------------+--------+----------+-----------+-----------+-------+---------------+-----------+-----+-------------+----------+--------+-----+-----------------+----------+----------+------------------+--------------------+------------------+-------------------+-----------------------+------------------+----------------------------+-----------------------------------+--------------------------------+--------------+---------------+---------------+----------+-----------+-------------+-----------------+\n",
      "|         customer_id|           emp_title|emp_length|home_ownership|annual_inc|annual_inc_joint|verification_status|zip_code|addr_state|avg_cur_bal|tot_cur_bal|loan_id|    loan_status|loan_amount|state|funded_amount|      term|int_rate|grade|       issue_date|pymnt_plan|      type|           purpose|         description|home_ownership_own|home_ownership_rent|home_ownership_mortgage|home_ownership_any|verification_status_verified|verification_status_source_verified|verification_status_not_verified|type_joint_app|type_individual|type_direct_pay|type_joint|state_label|purpose_label|grade_discretized|\n",
      "+--------------------+--------------------+----------+--------------+----------+----------------+-------------------+--------+----------+-----------+-----------+-------+---------------+-----------+-----+-------------+----------+--------+-----+-----------------+----------+----------+------------------+--------------------+------------------+-------------------+-----------------------+------------------+----------------------------+-----------------------------------+--------------------------------+--------------+---------------+---------------+----------+-----------+-------------+-----------------+\n",
      "|YichUndceGIwVUxce...|         Underwrirer|        10|      MORTGAGE|   90000.0|             0.0|           Verified|   346xx|        FL|    27978.0|   335738.0|  70935|        Current|     8400.0|   FL|       8400.0| 36 months|  0.0881|    4|  19 January 2019|     false|Individual|debt_consolidation|  Debt consolidation|                 0|                  0|                      1|                 0|                           1|                                  0|                               0|             0|              1|              0|         0|        3.0|          0.0|                A|\n",
      "|YidceDk4O1x4ZWZce...|Regional sales Ex...|         4|          RENT|   72000.0|             0.0|    Source Verified|   640xx|        MO|     2098.0|    33560.0|  63172|     Fully Paid|     8000.0|   MO|       8000.0| 36 months|  0.0789|    1|     15 July 2015|     false|Individual|  home_improvement|    Home improvement|                 0|                  1|                      0|                 0|                           0|                                  1|                               0|             0|              1|              0|         0|       19.0|          2.0|                A|\n",
      "|YiciXHhmZEU5XHgxZ...|Library Specialis...|         2|          RENT|   40000.0|             0.0|    Source Verified|   201xx|        VA|    17544.0|   140349.0|  14799|In Grace Period|     3500.0|   VA|       3500.0| 36 months|  0.1806|   18|     17 July 2017|     false|Individual|             other|               Other|                 0|                  1|                      0|                 0|                           0|                                  1|                               0|             0|              1|              0|         0|       10.0|          3.0|                D|\n",
      "|Yic9XHhjYX5ceGQ0X...|            Attorney|         3|      MORTGAGE|  120000.0|             0.0|           Verified|   303xx|        GA|    10021.0|   210444.0| 259816|     Fully Paid|    35000.0|   GA|      35000.0| 60 months|  0.1531|   11| 16 February 2016|     false|INDIVIDUAL|debt_consolidation|  Debt consolidation|                 0|                  0|                      1|                 0|                           1|                                  0|                               0|             0|              1|              0|         0|        8.0|          0.0|                C|\n",
      "|YidceDk4aVx4YzJce...|               owner|         8|          RENT|   55000.0|             0.0|       Not Verified|   333xx|        FL|     4200.0|    16800.0| 191729|        Current|    20000.0|   FL|      20000.0| 36 months|  0.1049|    7|     16 July 2016|     false|INDIVIDUAL|debt_consolidation|  Debt consolidation|                 0|                  1|                      0|                 0|                           0|                                  0|                               1|             0|              1|              0|         0|        3.0|          0.0|                B|\n",
      "|YiIsX1x4ZDZcdCVce...|        Surveillance|         1|           OWN|   35000.0|             0.0|    Source Verified|   724xx|        AR|     8693.0|   139091.0|  10274|        Current|     3000.0|   AR|       3000.0| 36 months|  0.1139|    6|    17 April 2017|     false|Individual|debt_consolidation|  Debt consolidation|                 1|                  0|                      0|                 0|                           0|                                  1|                               0|             0|              1|              0|         0|       31.0|          0.0|                B|\n",
      "|YidceGJlalx4YmFce...|         Underwrirer|        10|          RENT|   16048.0|             0.0|           Verified|   283xx|        NC|     3186.0|    28677.0|  35780|        Current|     5375.0|   NC|       5375.0| 36 months|  0.1924|   23| 14 November 2014|     false|INDIVIDUAL|  home_improvement|    Home improvement|                 0|                  1|                      0|                 0|                           1|                                  0|                               0|             0|              1|              0|         0|        9.0|          2.0|                E|\n",
      "|YidceGNlXHgwYmFAX...|                  PT|         6|           OWN|  103000.0|             0.0|       Not Verified|   785xx|        TX|     9124.0|    54746.0| 148966|        Current|    15000.0|   TX|      15000.0| 36 months|  0.0944|    7| 18 February 2018|     false|Individual|debt_consolidation|  Debt consolidation|                 1|                  0|                      0|                 0|                           0|                                  0|                               1|             0|              1|              0|         0|        1.0|          0.0|                B|\n",
      "|YidceGNidlx4YTRMX...|   Logistics Analyst|         4|          RENT|   69000.0|             0.0|    Source Verified|   234xx|        VA|     4313.0|    90578.0|  93464|     Fully Paid|    10000.0|   VA|      10000.0| 36 months|  0.1262|   13| 17 December 2017|     false|Individual|debt_consolidation|  Debt consolidation|                 0|                  1|                      0|                 0|                           0|                                  1|                               0|             0|              1|              0|         0|       10.0|          0.0|                C|\n",
      "|YidceDliXHgwZSFyX...|Veteran's Service...|        10|      MORTGAGE|   75000.0|             0.0|    Source Verified|   390xx|        MS|    34402.0|   240811.0|  27812|        Current|     5000.0|   MS|       5000.0| 36 months|  0.0944|   10|     17 June 2017|     false|Individual|  home_improvement|    Home improvement|                 0|                  0|                      1|                 0|                           0|                                  1|                               0|             0|              1|              0|         0|       34.0|          2.0|                B|\n",
      "|YidofDM1XHhiYVx4Y...| Master Tax Advisor |        10|      MORTGAGE|  100000.0|             0.0|       Not Verified|   846xx|        UT|    33159.0|   232113.0| 198304|        Current|    20000.0|   UT|      20000.0| 60 months|  0.1308|    7| 19 December 2019|     false|Individual|debt_consolidation|  Debt consolidation|                 0|                  0|                      1|                 0|                           0|                                  0|                               1|             0|              1|              0|         0|       32.0|          0.0|                B|\n",
      "|YidceDlhXHg4OXhce...|Supplier Relation...|         3|           OWN|   75000.0|             0.0|       Not Verified|   237xx|        VA|     4081.0|    44887.0| 157667|        Current|    15000.0|   VA|      15000.0| 60 months|  0.1691|   15| 18 November 2018|     false|Individual|debt_consolidation|  Debt consolidation|                 1|                  0|                      0|                 0|                           0|                                  0|                               1|             0|              1|              0|         0|       10.0|          0.0|                C|\n",
      "|YidceGY1XHhkZlx4Z...|Front Desk Recept...|         9|      MORTGAGE|  200000.0|             0.0|    Source Verified|   117xx|        NY|    26588.0|   505166.0| 258183|        Current|    35000.0|   NY|      35000.0| 60 months|  0.1008|    6|  18 October 2018|     false|Individual|debt_consolidation|  Debt consolidation|                 0|                  0|                      1|                 0|                           0|                                  1|                               0|             0|              1|              0|         0|        2.0|          0.0|                B|\n",
      "|YidceGU2Vlx4YTFce...|   Building Engineer|        10|      MORTGAGE|  110000.0|        181000.0|       Not Verified|   601xx|        IL|    43605.0|   261627.0| 258027|        Current|    35000.0|   IL|      35000.0| 60 months|  0.0881|    3|19 September 2019|     false| Joint App|debt_consolidation|  Debt consolidation|                 0|                  0|                      1|                 0|                           0|                                  0|                               1|             1|              0|              0|         0|        4.0|          0.0|                A|\n",
      "|YidxXHgwOFx4MDdmX...|      QC Lab Manager|         0|      MORTGAGE|   95000.0|             0.0|           Verified|   752xx|        TX|    29202.0|   292016.0| 220190|        Current|    24000.0|   TX|      24000.0| 60 months|  0.1919|   25|   15 August 2015|     false|Individual|       credit_card|Credit card refin...|                 0|                  0|                      1|                 0|                           1|                                  0|                               0|             0|              1|              0|         0|        1.0|          1.0|                E|\n",
      "|YidceGEyXHg5OSVce...|     Software Tester|        10|      MORTGAGE|   70000.0|             0.0|    Source Verified|   972xx|        OR|    33053.0|   231368.0| 221131|     Fully Paid|    24500.0|   OR|      24500.0| 36 months|  0.0839|    2|     14 June 2014|     false|INDIVIDUAL|debt_consolidation|  Debt consolidation|                 0|                  0|                      1|                 0|                           0|                                  1|                               0|             0|              1|              0|         0|       27.0|          0.0|                A|\n",
      "|YidceGM5XHg5ZFMqX...|Installation Foreman|        10|          RENT|   70000.0|             0.0|       Not Verified|   196xx|        PA|     3941.0|    19705.0| 214015|        Current|    23925.0|   PA|      23925.0| 60 months|  0.1308|    7|    19 April 2019|     false|Individual|               car|       Car financing|                 0|                  1|                      0|                 0|                           0|                                  0|                               1|             0|              1|              0|         0|        7.0|          7.0|                B|\n",
      "|YidceGM1XHgxM1x4Y...|    Registered nurse|        10|      MORTGAGE|   98000.0|             0.0|           Verified|   372xx|        TN|    17948.0|   251272.0| 182958|     Fully Paid|    18725.0|   TN|      18725.0| 36 months|  0.1499|   12|    17 April 2017|     false|Individual|debt_consolidation|  Debt consolidation|                 0|                  0|                      1|                 0|                           1|                                  0|                               0|             0|              1|              0|         0|       20.0|          0.0|                C|\n",
      "|YidceDAwSlx4OGNce...|             Teacher|         1|          RENT|   60000.0|             0.0|       Not Verified|   941xx|        CA|    14960.0|   104719.0| 125969|     Fully Paid|    12000.0|   CA|      12000.0| 60 months|  0.1366|   14|  15 January 2015|     false|Individual|debt_consolidation|  Debt consolidation|                 0|                  1|                      0|                 0|                           0|                                  0|                               1|             0|              1|              0|         0|        0.0|          0.0|                C|\n",
      "|YidceDE0OGtceGRlX...|         Underwrirer|        10|      MORTGAGE|   31176.0|         45444.0|       Not Verified|   984xx|        WA|    42423.0|   254538.0|  38270|     Fully Paid|     5725.0|   WA|       5725.0| 36 months|  0.0944|    6|     17 June 2017|     false| Joint App|       credit_card|Credit card refin...|                 0|                  0|                      1|                 0|                           0|                                  0|                               1|             1|              0|              0|         0|       16.0|          1.0|                B|\n",
      "+--------------------+--------------------+----------+--------------+----------+----------------+-------------------+--------+----------+-----------+-----------+-------+---------------+-----------+-----+-------------+----------+--------+-----+-----------------+----------+----------+------------------+--------------------+------------------+-------------------+-----------------------+------------------+----------------------------+-----------------------------------+--------------------------------+--------------+---------------+---------------+----------+-----------+-------------+-----------------+\n",
      "only showing top 20 rows\n",
      "\n"
     ]
    }
   ],
   "source": [
    "df = convert_emp_length_to_numeric(df)\n",
    "df = one_hot_encode_columns(df, [\"home_ownership\", \"verification_status\", \"type\"])\n",
    "df = label_encode_columns(df, [\"state\", \"purpose\"])\n",
    "df = discretize_grade(df)\n",
    "df.show()\n"
   ]
  },
  {
   "cell_type": "markdown",
   "id": "c7e33146",
   "metadata": {},
   "source": [
    "## 4 Feature Engineering"
   ]
  },
  {
   "cell_type": "code",
   "execution_count": 47,
   "id": "89c7f5c4",
   "metadata": {},
   "outputs": [
    {
     "name": "stdout",
     "output_type": "stream",
     "text": [
      "+--------------------+--------------------+----------+--------------+----------+----------------+-------------------+--------+----------+-----------+-----------+-------+-----------+-----------+-----+-------------+----------+--------+-----+----------+----------+----------+------------------+--------------------+------------------+-------------------+-----------------------+------------------+----------------------------+-----------------------------------+--------------------------------+--------------+---------------+---------------+----------+-----------+-------------+-----------------+--------------------------+----------------------+--------------------------------+----------------------------+\n",
      "|         customer_id|           emp_title|emp_length|home_ownership|annual_inc|annual_inc_joint|verification_status|zip_code|addr_state|avg_cur_bal|tot_cur_bal|loan_id|loan_status|loan_amount|state|funded_amount|      term|int_rate|grade|issue_date|pymnt_plan|      type|           purpose|         description|home_ownership_own|home_ownership_rent|home_ownership_mortgage|home_ownership_any|verification_status_verified|verification_status_source_verified|verification_status_not_verified|type_joint_app|type_individual|type_direct_pay|type_joint|state_label|purpose_label|grade_discretized|prev_loan_issue_date_grade|prev_loan_amount_grade|prev_loan_issue_date_state_grade|prev_loan_amount_state_grade|\n",
      "+--------------------+--------------------+----------+--------------+----------+----------------+-------------------+--------+----------+-----------+-----------+-------+-----------+-----------+-----+-------------+----------+--------+-----+----------+----------+----------+------------------+--------------------+------------------+-------------------+-----------------------+------------------+----------------------------+-----------------------------------+--------------------------------+--------------+---------------+---------------+----------+-----------+-------------+-----------------+--------------------------+----------------------+--------------------------------+----------------------------+\n",
      "|YidceGEzXHhlYy9ce...|    Registered Nurse|         3|      MORTGAGE|  100000.0|             0.0|    Source Verified|   995xx|        AK|    22385.0|   223851.0| 187153| Fully Paid|    20000.0|   AK|      20000.0| 36 months|  0.0925|    1|2013-10-13|     false|INDIVIDUAL|debt_consolidation|  clear out accounts|                 0|                  0|                      1|                 0|                           0|                                  1|                               0|             0|              1|              0|         0|       43.0|          0.0|                A|                2013-10-13|                9000.0|                            NULL|                        NULL|\n",
      "|YidDNlx4YjZceGMxX...|  Journeyman Glazier|         9|          RENT|   60000.0|             0.0|    Source Verified|   995xx|        AK|     4664.0|    23320.0| 190743| Fully Paid|    20000.0|   AK|      20000.0| 36 months|   0.089|    1|2013-12-13|     false|INDIVIDUAL|debt_consolidation|Vehicle,and debt ...|                 0|                  1|                      0|                 0|                           0|                                  1|                               0|             0|              1|              0|         0|       43.0|          0.0|                A|                2013-12-13|               25000.0|                      2013-10-13|                     20000.0|\n",
      "|Yic+XHhjYVx4ZTg9Q...|   Probation Officer|        10|           OWN|   54000.0|             0.0|           Verified|   995xx|        AK|    22815.0|   319411.0| 215310|    Current|    24000.0|   AK|      24000.0| 36 months|  0.0789|    4|2016-05-16|     false|INDIVIDUAL|debt_consolidation|  Debt consolidation|                 1|                  0|                      0|                 0|                           1|                                  0|                               0|             0|              1|              0|         0|       43.0|          0.0|                A|                2016-05-16|               12000.0|                      2013-12-13|                     20000.0|\n",
      "|YiJceGNiQFx4OWZce...|     Master Sergeant|        10|          RENT|   90000.0|             0.0|           Verified|   995xx|        AK|     2702.0|    35129.0| 251642|    Current|    33600.0|   AK|      33600.0| 36 months|  0.0739|    3|2016-05-16|     false|INDIVIDUAL|       credit_card|Credit card refin...|                 0|                  1|                      0|                 0|                           1|                                  0|                               0|             0|              1|              0|         0|       43.0|          1.0|                A|                2016-05-16|                1000.0|                      2016-05-16|                     24000.0|\n",
      "|YidceGFkM1x4ODdzQ...|    Kitchen manager |        10|          RENT|   60000.0|             0.0|       Not Verified|   998xx|        AK|     1304.0|    24769.0| 190042|    Current|    20000.0|   AK|      20000.0| 36 months|  0.0799|    1|2016-10-16|     false|INDIVIDUAL|       credit_card|Credit card refin...|                 0|                  1|                      0|                 0|                           0|                                  0|                               1|             0|              1|              0|         0|       43.0|          1.0|                A|                2016-10-16|               10000.0|                      2016-05-16|                     33600.0|\n",
      "|YidceGE5LFx4OTJce...|             Teacher|         2|      MORTGAGE|   53000.0|             0.0|           Verified|   995xx|        AK|    45130.0|   361036.0|  74791| Fully Paid|     9000.0|   AK|       9000.0| 36 months|  0.0749|    3|2017-01-17|     false|Individual|       credit_card|Credit card refin...|                 0|                  0|                      1|                 0|                           1|                                  0|                               0|             0|              1|              0|         0|       43.0|          1.0|                A|                2017-01-17|                5000.0|                      2016-10-16|                     20000.0|\n",
      "|YidceDhhclFceGM3X...|             Foreman|        10|      MORTGAGE|  115000.0|             0.0|           Verified|   995xx|        AK|    20239.0|   303589.0| 202815| Fully Paid|    20400.0|   AK|      20400.0| 36 months|  0.0734|    4|2018-04-18|     false|Individual|       credit_card|Credit card refin...|                 0|                  0|                      1|                 0|                           1|                                  0|                               0|             0|              1|              0|         0|       43.0|          1.0|                A|                2018-04-18|               25000.0|                      2017-01-17|                      9000.0|\n",
      "|YidceGFkXHhmZkdHX...|Patient Care Coor...|         5|      MORTGAGE|   43000.0|             0.0|       Not Verified|   995xx|        AK|    25418.0|   203343.0|  99472|    Current|    10000.0|   AK|      10000.0| 60 months|  0.0611|    5|2018-07-18|     false|Individual|       credit_card|Credit card refin...|                 0|                  0|                      1|                 0|                           0|                                  0|                               1|             0|              1|              0|         0|       43.0|          1.0|                A|                2018-07-18|                5000.0|                      2018-04-18|                     20400.0|\n",
      "|Yid4XHhjN1x4OGZBX...|Customer Service Rep|         1|           OWN|  100000.0|             0.0|       Not Verified|   995xx|        AK|    46696.0|   326869.0|  25384|    Current|     5000.0|   AK|       5000.0| 36 months|  0.0611|    2|2018-09-18|     false|Individual|debt_consolidation|  Debt consolidation|                 1|                  0|                      0|                 0|                           0|                                  0|                               1|             0|              1|              0|         0|       43.0|          0.0|                A|                2018-09-18|               40000.0|                      2018-07-18|                     10000.0|\n",
      "|YidceGU4SjxceDE4X...|         Underwrirer|        10|      MORTGAGE|   84000.0|             0.0|       Not Verified|   996xx|        AK|    11652.0|   314602.0| 188190|    Current|    20000.0|   AK|      20000.0| 36 months|  0.0611|    2|2018-09-18|     false|Individual|  home_improvement|    Home improvement|                 0|                  0|                      1|                 0|                           0|                                  0|                               1|             0|              1|              0|         0|       43.0|          2.0|                A|                2018-09-18|               20000.0|                      2018-09-18|                      5000.0|\n",
      "|YiJceGY0Jlx4ZDZce...|           President|         2|      MORTGAGE|  220000.0|             0.0|    Source Verified|   995xx|        AK|    38225.0|   344026.0| 190484|    Current|    20000.0|   AK|      20000.0| 36 months|  0.0846|    3|2018-10-18|     false|Individual|debt_consolidation|  Debt consolidation|                 0|                  0|                      1|                 0|                           0|                                  1|                               0|             0|              1|              0|         0|       43.0|          0.0|                A|                2018-10-18|               27000.0|                      2018-09-18|                     20000.0|\n",
      "|YidceGEwelx4ZjVce...|CLA Admin Special...|         2|          RENT|   36681.0|             0.0|    Source Verified|   995xx|        AK|     5383.0|    37678.0|  86746|    Current|    10000.0|   AK|      10000.0| 36 months|  0.0819|    3|2018-11-18|     false|Individual|debt_consolidation|  Debt consolidation|                 0|                  1|                      0|                 0|                           0|                                  1|                               0|             0|              1|              0|         0|       43.0|          0.0|                A|                2018-11-18|               20000.0|                      2018-10-18|                     20000.0|\n",
      "|YiJceGFlXHhjOFx4M...|Telecommunication...|        10|      MORTGAGE|   72000.0|             0.0|    Source Verified|   995xx|        AK|    52671.0|   368694.0| 118021|    Current|    12000.0|   AK|      12000.0| 36 months|  0.0819|    3|2018-12-18|     false|Individual|debt_consolidation|  Debt consolidation|                 0|                  0|                      1|                 0|                           0|                                  1|                               0|             0|              1|              0|         0|       43.0|          0.0|                A|                2018-12-18|                3000.0|                      2018-11-18|                     10000.0|\n",
      "|YichZVx4MDdLXHhiN...|                  RN|        10|      MORTGAGE|  110000.0|             0.0|       Not Verified|   996xx|        AK|    60860.0|   365158.0| 135884|    Current|    13450.0|   AK|      13450.0| 36 months|  0.0702|    1|2019-06-19|     false|Individual|    major_purchase|      Major purchase|                 0|                  0|                      1|                 0|                           0|                                  0|                               1|             0|              1|              0|         0|       43.0|          4.0|                A|                2019-06-19|               40000.0|                      2018-12-18|                     12000.0|\n",
      "|YidceGQ5XHhlMlx4Z...|          Pit dealer|         1|          RENT|   60000.0|             0.0|    Source Verified|   995xx|        AK|    15120.0|    90717.0| 190272|    Current|    20000.0|   AK|      20000.0| 36 months|  0.0819|    2|2019-06-19|     false|Individual|       credit_card|Credit card refin...|                 0|                  1|                      0|                 0|                           0|                                  1|                               0|             0|              1|              0|         0|       43.0|          1.0|                A|                2019-06-19|                7500.0|                      2019-06-19|                     13450.0|\n",
      "|YidrXHg5NVx4YmY/X...|         Underwrirer|         0|      MORTGAGE|  150000.0|             0.0|       Not Verified|   995xx|        AK|    37890.0|   492575.0| 267412|    Current|    40000.0|   AK|      40000.0| 60 months|  0.0819|    4|2019-12-19|     false|Individual|       credit_card|Credit card refin...|                 0|                  0|                      1|                 0|                           0|                                  0|                               1|             0|              1|              0|         0|       43.0|          1.0|                A|                2019-12-19|               40000.0|                      2019-06-19|                     20000.0|\n",
      "|YiI7dFx4OWInXHg4M...|University of Alaska|         3|          RENT|   98000.0|             0.0|    Source Verified|   997xx|        AK|     4354.0|    65312.0| 119519| Fully Paid|    12000.0|   AK|      12000.0| 36 months|  0.1016|   10|2013-02-13|     false|INDIVIDUAL|debt_consolidation|  Lowering Loan Rate|                 0|                  1|                      0|                 0|                           0|                                  1|                               0|             0|              1|              0|         0|       43.0|          0.0|                B|                2013-02-13|               10000.0|                            NULL|                        NULL|\n",
      "|YidceGQ0XHhlN1x4M...|Customer Service ...|         0|          RENT|   45000.0|             0.0|    Source Verified|   995xx|        AK|     4309.0|    38779.0|  81803|Charged Off|    10000.0|   AK|      10000.0| 36 months|  0.1099|    9|2014-01-14|     false|INDIVIDUAL|debt_consolidation|  Debt consolidation|                 0|                  1|                      0|                 0|                           0|                                  1|                               0|             0|              1|              0|         0|       43.0|          0.0|                B|                2014-01-14|                5600.0|                      2013-02-13|                     12000.0|\n",
      "|YidceGQ3N1x4ZWZce...|Business support ...|         1|          RENT|   43520.0|             0.0|    Source Verified|   995xx|        AK|     8235.0|    32940.0| 110138| Fully Paid|    11000.0|   AK|      11000.0| 36 months|  0.1167|   10|2014-06-14|     false|INDIVIDUAL|       credit_card|Credit card refin...|                 0|                  1|                      0|                 0|                           0|                                  1|                               0|             0|              1|              0|         0|       43.0|          1.0|                B|                2014-06-14|                5000.0|                      2014-01-14|                     10000.0|\n",
      "|YidceGQ5XHhkNlx4Z...|Human Resource Co...|         2|          RENT|   56640.0|             0.0|    Source Verified|   998xx|        AK|     8633.0|   120855.0| 164448| Fully Paid|    16000.0|   AK|      16000.0| 36 months|  0.1153|    6|2015-10-15|     false|Individual|debt_consolidation|  Debt consolidation|                 0|                  1|                      0|                 0|                           0|                                  1|                               0|             0|              1|              0|         0|       43.0|          0.0|                B|                2015-10-15|                5000.0|                      2014-06-14|                     11000.0|\n",
      "+--------------------+--------------------+----------+--------------+----------+----------------+-------------------+--------+----------+-----------+-----------+-------+-----------+-----------+-----+-------------+----------+--------+-----+----------+----------+----------+------------------+--------------------+------------------+-------------------+-----------------------+------------------+----------------------------+-----------------------------------+--------------------------------+--------------+---------------+---------------+----------+-----------+-------------+-----------------+--------------------------+----------------------+--------------------------------+----------------------------+\n",
      "only showing top 20 rows\n",
      "\n"
     ]
    }
   ],
   "source": [
    "from pyspark.sql import functions as F\n",
    "from pyspark.sql.window import Window\n",
    "\n",
    "def add_previous_features(df):\n",
    "    # Define the window spec for previous loan values within the same grade\n",
    "    window_grade = Window.partitionBy(\"grade_discretized\").orderBy(\"issue_date\")\n",
    "  \n",
    "    # Define the window spec for previous loan values within the same state and grade\n",
    "    window_state_grade = Window.partitionBy(\"state\", \"grade_discretized\").orderBy(\"issue_date\")\n",
    "    \n",
    "    # Adding the previous loan issue date within the same grade\n",
    "    df = df.withColumn(\n",
    "        \"prev_loan_issue_date_grade\",\n",
    "        F.lag(\"issue_date\").over(window_grade)\n",
    "    )\n",
    "    \n",
    "    # Adding the previous loan amount within the same grade\n",
    "    df = df.withColumn(\n",
    "        \"prev_loan_amount_grade\",\n",
    "        F.lag(\"loan_amount\").over(window_grade)\n",
    "    )\n",
    "    \n",
    "    # Adding the previous loan issue date within the same state and grade combination\n",
    "    df = df.withColumn(\n",
    "        \"prev_loan_issue_date_state_grade\",\n",
    "        F.lag(\"issue_date\").over(window_state_grade)\n",
    "    )\n",
    "    \n",
    "    # Adding the previous loan amount within the same state and grade combination\n",
    "    df = df.withColumn(\n",
    "        \"prev_loan_amount_state_grade\",\n",
    "        F.lag(\"loan_amount\").over(window_state_grade)\n",
    "    )\n",
    "    \n",
    "    return df\n",
    "df = df.withColumn(\"issue_date\", F.to_date(\"issue_date\", \"dd MMMM yyyy\"))\n",
    "df = add_previous_features(df)\n",
    "df.show()\n"
   ]
  },
  {
   "cell_type": "markdown",
   "id": "70dc65c1",
   "metadata": {},
   "source": [
    "## 5  Analysis SQL vs Spark"
   ]
  },
  {
   "cell_type": "markdown",
   "id": "d7f15afd",
   "metadata": {},
   "source": [
    "### a.Identify the average loan amount and interest rate for loans marked as \"Default\" in the Loan Status, grouped by Emp Length and annual income ranges"
   ]
  },
  {
   "cell_type": "code",
   "execution_count": 48,
   "id": "4ff55148",
   "metadata": {},
   "outputs": [
    {
     "name": "stderr",
     "output_type": "stream",
     "text": [
      "24/11/28 15:40:28 WARN WindowExec: No Partition Defined for Window operation! Moving all data to a single partition, this can cause serious performance degradation.\n",
      "24/11/28 15:40:28 WARN WindowExec: No Partition Defined for Window operation! Moving all data to a single partition, this can cause serious performance degradation.\n",
      "24/11/28 15:40:28 WARN WindowExec: No Partition Defined for Window operation! Moving all data to a single partition, this can cause serious performance degradation.\n",
      "24/11/28 15:40:28 WARN WindowExec: No Partition Defined for Window operation! Moving all data to a single partition, this can cause serious performance degradation.\n"
     ]
    },
    {
     "name": "stdout",
     "output_type": "stream",
     "text": [
      "+----------+------------+---------------+-----------------+\n",
      "|emp_length|income_range|avg_loan_amount|avg_interest_rate|\n",
      "+----------+------------+---------------+-----------------+\n",
      "|         2|           2|         4000.0|           0.1899|\n",
      "|         3|           3|        35000.0|           0.1344|\n",
      "|        10|           1|         1000.0|           0.1614|\n",
      "+----------+------------+---------------+-----------------+\n",
      "\n"
     ]
    }
   ],
   "source": [
    "df.createOrReplaceTempView(\"loans\")\n",
    "query=\"WITH DefaultLoans AS (\\\n",
    "    SELECT * FROM loans WHERE loan_status = 'Default'),\\\n",
    "IncomeBins AS ( SELECT *, NTILE(4) OVER (ORDER BY annual_inc) AS income_range FROM DefaultLoans ) SELECT emp_length,  income_range,\\\n",
    "    AVG(loan_amount) AS avg_loan_amount,\\\n",
    "    AVG(int_rate) AS avg_interest_rate \\\n",
    "FROM IncomeBins \\\n",
    "GROUP BY emp_length, income_range \\\n",
    "ORDER BY emp_length, income_range\";\n",
    "query1_df = spark.sql(query)\n",
    "query1_df.show()"
   ]
  },
  {
   "cell_type": "code",
   "execution_count": 50,
   "id": "9058b9b7",
   "metadata": {},
   "outputs": [
    {
     "name": "stdout",
     "output_type": "stream",
     "text": [
      "+----------+------------+---------------+-----------------+\n",
      "|emp_length|income_range|avg_loan_amount|avg_interest_rate|\n",
      "+----------+------------+---------------+-----------------+\n",
      "|         2|           2|         4000.0|           0.1899|\n",
      "|         3|           3|        35000.0|           0.1344|\n",
      "|        10|           1|         1000.0|           0.1614|\n",
      "+----------+------------+---------------+-----------------+\n",
      "\n"
     ]
    },
    {
     "name": "stderr",
     "output_type": "stream",
     "text": [
      "24/11/28 15:40:29 WARN WindowExec: No Partition Defined for Window operation! Moving all data to a single partition, this can cause serious performance degradation.\n",
      "24/11/28 15:40:29 WARN WindowExec: No Partition Defined for Window operation! Moving all data to a single partition, this can cause serious performance degradation.\n",
      "24/11/28 15:40:29 WARN WindowExec: No Partition Defined for Window operation! Moving all data to a single partition, this can cause serious performance degradation.\n",
      "24/11/28 15:40:29 WARN WindowExec: No Partition Defined for Window operation! Moving all data to a single partition, this can cause serious performance degradation.\n"
     ]
    }
   ],
   "source": [
    "\n",
    "default_loans = df.filter(col(\"loan_status\") == \"Default\")\n",
    "\n",
    "windowSpec = Window.orderBy(\"annual_inc\")\n",
    "\n",
    "\n",
    "income_binned = default_loans.withColumn(\n",
    "    \"income_range\", \n",
    "    F.ntile(4).over(windowSpec)  \n",
    ")\n",
    "\n",
    "result = income_binned.groupBy(\"emp_length\", \"income_range\").agg(\n",
    "    F.avg(\"loan_amount\").alias(\"avg_loan_amount\"),\n",
    "    F.avg(\"int_rate\").alias(\"avg_interest_rate\")\n",
    ").orderBy(\"emp_length\", \"income_range\")\n",
    "\n",
    "result.show()\n"
   ]
  },
  {
   "cell_type": "markdown",
   "id": "eafe4426",
   "metadata": {},
   "source": [
    "### b.  Calculate the average difference between Loan Amount and Funded Amount for each loan Grade and sort by the grades with the largest differences."
   ]
  },
  {
   "cell_type": "code",
   "execution_count": 51,
   "id": "be8edf5a",
   "metadata": {},
   "outputs": [
    {
     "name": "stdout",
     "output_type": "stream",
     "text": [
      "+-----------------+--------------+\n",
      "|grade_discretized|avg_difference|\n",
      "+-----------------+--------------+\n",
      "|                F|           0.0|\n",
      "|                E|           0.0|\n",
      "|                B|           0.0|\n",
      "|                D|           0.0|\n",
      "|                C|           0.0|\n",
      "|                A|           0.0|\n",
      "|                G|           0.0|\n",
      "+-----------------+--------------+\n",
      "\n"
     ]
    }
   ],
   "source": [
    "query=\"WITH LoanDifferences AS ( SELECT grade_discretized, loan_amount - funded_amount AS diff FROM loans )\\\n",
    "SELECT grade_discretized, AVG(diff) AS avg_difference FROM LoanDifferences GROUP BY grade_discretized ORDER BY avg_difference DESC\";\n",
    "query2_df = spark.sql(query)\n",
    "query2_df.show()"
   ]
  },
  {
   "cell_type": "code",
   "execution_count": 52,
   "id": "0b417032",
   "metadata": {},
   "outputs": [
    {
     "name": "stdout",
     "output_type": "stream",
     "text": [
      "+-----------------+--------------+\n",
      "|grade_discretized|avg_difference|\n",
      "+-----------------+--------------+\n",
      "|                F|           0.0|\n",
      "|                E|           0.0|\n",
      "|                B|           0.0|\n",
      "|                D|           0.0|\n",
      "|                C|           0.0|\n",
      "|                A|           0.0|\n",
      "|                G|           0.0|\n",
      "+-----------------+--------------+\n",
      "\n"
     ]
    }
   ],
   "source": [
    "\n",
    "result2_df = df.withColumn(\"diff\", F.col(\"loan_amount\") - F.col(\"funded_amount\")) \\\n",
    "    .groupBy(\"grade_discretized\") \\\n",
    "    .agg(F.avg(\"diff\").alias(\"avg_difference\")) \\\n",
    "    .orderBy(F.desc(\"avg_difference\"))\n",
    "\n",
    "# Show the result\n",
    "result2_df.show()\n"
   ]
  },
  {
   "cell_type": "markdown",
   "id": "40e99edc",
   "metadata": {},
   "source": [
    "### c. Compare the total Loan Amount for loans with \"Verified\" and \"Not Verified\" Verification Status across each state (Addr State)."
   ]
  },
  {
   "cell_type": "code",
   "execution_count": 53,
   "id": "dab4059a",
   "metadata": {},
   "outputs": [
    {
     "name": "stdout",
     "output_type": "stream",
     "text": [
      "+----------+-------------------+-----------------+\n",
      "|addr_state|verification_status|total_loan_amount|\n",
      "+----------+-------------------+-----------------+\n",
      "|        AK|       Not Verified|         363625.0|\n",
      "|        AK|    Source Verified|         582150.0|\n",
      "|        AK|           Verified|         366475.0|\n",
      "|        AL|       Not Verified|        1737775.0|\n",
      "|        AL|    Source Verified|        1655725.0|\n",
      "|        AL|           Verified|        1202350.0|\n",
      "|        AR|       Not Verified|         909575.0|\n",
      "|        AR|    Source Verified|        1411425.0|\n",
      "|        AR|           Verified|         774250.0|\n",
      "|        AZ|       Not Verified|        3151075.0|\n",
      "|        AZ|    Source Verified|        3748200.0|\n",
      "|        AZ|           Verified|        2667200.0|\n",
      "|        CA|       Not Verified|        1.78475E7|\n",
      "|        CA|    Source Verified|       2.352335E7|\n",
      "|        CA|           Verified|        1.71016E7|\n",
      "|        CO|       Not Verified|        3022825.0|\n",
      "|        CO|    Source Verified|        3459625.0|\n",
      "|        CO|           Verified|        2643975.0|\n",
      "|        CT|       Not Verified|        1633800.0|\n",
      "|        CT|    Source Verified|        3051075.0|\n",
      "+----------+-------------------+-----------------+\n",
      "only showing top 20 rows\n",
      "\n"
     ]
    }
   ],
   "source": [
    "query = \"SELECT addr_state, verification_status, SUM(loan_amount) AS total_loan_amount FROM loans GROUP BY addr_state, verification_status \\\n",
    "ORDER BY addr_state, verification_status\"\n",
    "\n",
    "# Execute the query\n",
    "query3_df = spark.sql(query)\n",
    "\n",
    "# Show the results\n",
    "query3_df.show()"
   ]
  },
  {
   "cell_type": "code",
   "execution_count": 54,
   "id": "55c92cd6",
   "metadata": {},
   "outputs": [
    {
     "name": "stdout",
     "output_type": "stream",
     "text": [
      "+----------+-------------------+-----------------+\n",
      "|addr_state|verification_status|total_loan_amount|\n",
      "+----------+-------------------+-----------------+\n",
      "|        AK|       Not Verified|         363625.0|\n",
      "|        AK|    Source Verified|         582150.0|\n",
      "|        AK|           Verified|         366475.0|\n",
      "|        AL|       Not Verified|        1737775.0|\n",
      "|        AL|    Source Verified|        1655725.0|\n",
      "|        AL|           Verified|        1202350.0|\n",
      "|        AR|       Not Verified|         909575.0|\n",
      "|        AR|    Source Verified|        1411425.0|\n",
      "|        AR|           Verified|         774250.0|\n",
      "|        AZ|       Not Verified|        3151075.0|\n",
      "|        AZ|    Source Verified|        3748200.0|\n",
      "|        AZ|           Verified|        2667200.0|\n",
      "|        CA|       Not Verified|        1.78475E7|\n",
      "|        CA|    Source Verified|       2.352335E7|\n",
      "|        CA|           Verified|        1.71016E7|\n",
      "|        CO|       Not Verified|        3022825.0|\n",
      "|        CO|    Source Verified|        3459625.0|\n",
      "|        CO|           Verified|        2643975.0|\n",
      "|        CT|       Not Verified|        1633800.0|\n",
      "|        CT|    Source Verified|        3051075.0|\n",
      "+----------+-------------------+-----------------+\n",
      "only showing top 20 rows\n",
      "\n"
     ]
    }
   ],
   "source": [
    "result3_df = df.groupBy(\"addr_state\", \"verification_status\") \\\n",
    "    .agg(F.sum(\"loan_amount\").alias(\"total_loan_amount\")) \\\n",
    "    .orderBy(\"addr_state\", \"verification_status\")\n",
    "\n",
    "# Show the results\n",
    "result3_df.show()"
   ]
  },
  {
   "cell_type": "markdown",
   "id": "f9fbe1c2",
   "metadata": {},
   "source": [
    "### d. Calculate the average time gap (in days) between consecutive loans for each grade using the new features you added in the feature engineering phase\n"
   ]
  },
  {
   "cell_type": "code",
   "execution_count": 55,
   "id": "bc2c364e",
   "metadata": {},
   "outputs": [
    {
     "name": "stdout",
     "output_type": "stream",
     "text": [
      "+-----------------+-------------------+\n",
      "|grade_discretized|       avg_time_gap|\n",
      "+-----------------+-------------------+\n",
      "|                A|0.47154899894625923|\n",
      "|                B| 0.3402179422199696|\n",
      "|                C|0.35024784763892514|\n",
      "|                D|  0.685823754789272|\n",
      "|                E| 1.8169117647058823|\n",
      "|                F|   5.78974358974359|\n",
      "|                G| 20.057142857142857|\n",
      "+-----------------+-------------------+\n",
      "\n"
     ]
    }
   ],
   "source": [
    "query = \"SELECT grade_discretized, AVG(DATEDIFF(issue_date, prev_loan_issue_date_grade)) AS avg_time_gap FROM loans WHERE prev_loan_issue_date_grade IS NOT NULL \\\n",
    "GROUP BY grade_discretized \\\n",
    "ORDER BY grade_discretized\"\n",
    "query4_df = spark.sql(query)\n",
    "\n",
    "# Show the results\n",
    "query4_df.show()"
   ]
  },
  {
   "cell_type": "code",
   "execution_count": 56,
   "id": "e5110789",
   "metadata": {},
   "outputs": [
    {
     "name": "stdout",
     "output_type": "stream",
     "text": [
      "+-----------------+-------------------+\n",
      "|grade_discretized|       avg_time_gap|\n",
      "+-----------------+-------------------+\n",
      "|                A|0.47154899894625923|\n",
      "|                B| 0.3402179422199696|\n",
      "|                C|0.35024784763892514|\n",
      "|                D|  0.685823754789272|\n",
      "|                E| 1.8169117647058823|\n",
      "|                F|   5.78974358974359|\n",
      "|                G| 20.057142857142857|\n",
      "+-----------------+-------------------+\n",
      "\n"
     ]
    }
   ],
   "source": [
    "df_with_gap = df.withColumn(\"time_gap\", F.datediff(\"issue_date\", \"prev_loan_issue_date_grade\"))\n",
    "\n",
    "\n",
    "df_with_gap_filtered = df_with_gap.filter(df_with_gap.time_gap.isNotNull()&df_with_gap.prev_loan_issue_date_grade.isNotNull())\n",
    "\n",
    "result4_df = df_with_gap_filtered.groupBy(\"grade_discretized\") \\\n",
    "    .agg(F.avg(\"time_gap\").alias(\"avg_time_gap\")) \\\n",
    "    .orderBy(\"grade_discretized\")\n",
    "\n",
    "result4_df.show()"
   ]
  },
  {
   "cell_type": "markdown",
   "id": "4e2a8b6e",
   "metadata": {},
   "source": [
    "### e.  Identify the average difference in loan amounts between consecutive loans within the same state and grade combination."
   ]
  },
  {
   "cell_type": "code",
   "execution_count": 57,
   "id": "fa8a289a",
   "metadata": {},
   "outputs": [
    {
     "name": "stdout",
     "output_type": "stream",
     "text": [
      "+-----+-----------------+--------------------+\n",
      "|state|grade_discretized|avg_loan_amount_diff|\n",
      "+-----+-----------------+--------------------+\n",
      "|   WY|                E|             21525.0|\n",
      "|   WI|                G|             16950.0|\n",
      "|   HI|                F|             15625.0|\n",
      "|   ME|                F|              7662.5|\n",
      "|   DE|                E|              6625.0|\n",
      "|   KY|                F|   6383.333333333333|\n",
      "|   OK|                F|              5875.0|\n",
      "|   WV|                E|  3392.8571428571427|\n",
      "|   AK|                D|              3370.0|\n",
      "|   VT|                D|              3000.0|\n",
      "|   HI|                E|  2832.1428571428573|\n",
      "|   IN|                F|  2738.8888888888887|\n",
      "|   UT|                E|  2444.4444444444443|\n",
      "|   MA|                F|              2375.0|\n",
      "|   SD|                D|   2285.714285714286|\n",
      "|   SD|                A|  2261.5384615384614|\n",
      "|   NM|                F|              2000.0|\n",
      "|   DE|                A|   1857.142857142857|\n",
      "|   TX|                G|   1857.142857142857|\n",
      "|   OH|                G|             1756.25|\n",
      "+-----+-----------------+--------------------+\n",
      "only showing top 20 rows\n",
      "\n"
     ]
    }
   ],
   "source": [
    "query=\"WITH loan_diffs AS (SELECT state,grade_discretized,loan_amount,prev_loan_amount_state_grade,\\\n",
    "loan_amount - prev_loan_amount_state_grade AS loan_amount_diff_state_grade \\\n",
    "FROM loans \\\n",
    "WHERE prev_loan_amount_state_grade IS NOT NULL) \\\n",
    "SELECT state,grade_discretized,AVG(loan_amount_diff_state_grade) AS avg_loan_amount_diff \\\n",
    "FROM loan_diffs \\\n",
    "GROUP BY state, grade_discretized \\\n",
    "ORDER BY avg_loan_amount_diff DESC\"\n",
    "\n",
    "query5_df = spark.sql(query)\n",
    "\n",
    "\n",
    "query5_df.show()"
   ]
  },
  {
   "cell_type": "code",
   "execution_count": 58,
   "id": "70272d14",
   "metadata": {},
   "outputs": [
    {
     "name": "stdout",
     "output_type": "stream",
     "text": [
      "+-----+-----------------+--------------------+\n",
      "|state|grade_discretized|avg_loan_amount_diff|\n",
      "+-----+-----------------+--------------------+\n",
      "|   WY|                E|             21525.0|\n",
      "|   WI|                G|             16950.0|\n",
      "|   HI|                F|             15625.0|\n",
      "|   ME|                F|              7662.5|\n",
      "|   DE|                E|              6625.0|\n",
      "|   KY|                F|   6383.333333333333|\n",
      "|   OK|                F|              5875.0|\n",
      "|   WV|                E|  3392.8571428571427|\n",
      "|   AK|                D|              3370.0|\n",
      "|   VT|                D|              3000.0|\n",
      "|   HI|                E|  2832.1428571428573|\n",
      "|   IN|                F|  2738.8888888888887|\n",
      "|   UT|                E|  2444.4444444444443|\n",
      "|   MA|                F|              2375.0|\n",
      "|   SD|                D|   2285.714285714286|\n",
      "|   SD|                A|  2261.5384615384614|\n",
      "|   NM|                F|              2000.0|\n",
      "|   DE|                A|   1857.142857142857|\n",
      "|   TX|                G|   1857.142857142857|\n",
      "|   OH|                G|             1756.25|\n",
      "+-----+-----------------+--------------------+\n",
      "only showing top 20 rows\n",
      "\n"
     ]
    }
   ],
   "source": [
    "df = df.withColumn(\n",
    "    \"loan_amount_diff_state_grade\",\n",
    "    df[\"loan_amount\"] - df[\"prev_loan_amount_state_grade\"]\n",
    ")\n",
    "\n",
    "# Filter out rows where the previous loan amount is null (to exclude the first loan in each state/grade combination)\n",
    "result = df.filter(df[\"prev_loan_amount_state_grade\"].isNotNull()) \\\n",
    "    .groupBy(\"state\", \"grade_discretized\") \\\n",
    "    .agg(F.avg(\"loan_amount_diff_state_grade\").alias(\"avg_loan_amount_diff\")) \\\n",
    "    .orderBy(F.desc(\"avg_loan_amount_diff\"))\n",
    "\n",
    "# Show the result\n",
    "result.show()"
   ]
  },
  {
   "cell_type": "markdown",
   "id": "fb99e779",
   "metadata": {},
   "source": [
    "## 6  lookup Saving the dataset"
   ]
  },
  {
   "cell_type": "code",
   "execution_count": 59,
   "id": "32b02e1c",
   "metadata": {},
   "outputs": [
    {
     "name": "stderr",
     "output_type": "stream",
     "text": [
      "                                                                                \r"
     ]
    },
    {
     "name": "stdout",
     "output_type": "stream",
     "text": [
      "+-------------------+------------------+--------------------+\n",
      "|        column_name|    original_value|       encoded_value|\n",
      "+-------------------+------------------+--------------------+\n",
      "|         emp_length|          < 1 year|                   0|\n",
      "|         emp_length|            1 year|                   1|\n",
      "|         emp_length|           2 years|                   2|\n",
      "|         emp_length|           3 years|                   3|\n",
      "|         emp_length|           4 years|                   4|\n",
      "|         emp_length|           5 years|                   5|\n",
      "|         emp_length|           6 years|                   6|\n",
      "|         emp_length|           7 years|                   7|\n",
      "|         emp_length|           8 years|                   8|\n",
      "|         emp_length|           9 years|                   9|\n",
      "|         emp_length|         10+ years|                  10|\n",
      "|     home_ownership|               OWN|  home_ownership_own|\n",
      "|     home_ownership|              RENT| home_ownership_rent|\n",
      "|     home_ownership|          MORTGAGE|home_ownership_mo...|\n",
      "|     home_ownership|               ANY|  home_ownership_any|\n",
      "|verification_status|          Verified|verification_stat...|\n",
      "|verification_status|   Source Verified|verification_stat...|\n",
      "|verification_status|      Not Verified|verification_stat...|\n",
      "|               type|         Joint App|      type_joint_app|\n",
      "|               type|        Individual|     type_individual|\n",
      "|               type|        DIRECT_PAY|     type_direct_pay|\n",
      "|               type|             JOINT|          type_joint|\n",
      "|               type|        INDIVIDUAL|     type_individual|\n",
      "|              state|                AZ|                   0|\n",
      "|              state|                SC|                   1|\n",
      "|              state|                LA|                   2|\n",
      "|              state|                MN|                   3|\n",
      "|              state|                NJ|                   4|\n",
      "|              state|                DC|                   5|\n",
      "|              state|                OR|                   6|\n",
      "|              state|                VA|                   7|\n",
      "|              state|                RI|                   8|\n",
      "|              state|                KY|                   9|\n",
      "|              state|                WY|                  10|\n",
      "|              state|                NH|                  11|\n",
      "|              state|                MI|                  12|\n",
      "|              state|                NV|                  13|\n",
      "|              state|                WI|                  14|\n",
      "|              state|                ID|                  15|\n",
      "|              state|                CA|                  16|\n",
      "|              state|                CT|                  17|\n",
      "|              state|                NE|                  18|\n",
      "|              state|                MT|                  19|\n",
      "|              state|                NC|                  20|\n",
      "|              state|                VT|                  21|\n",
      "|              state|                MD|                  22|\n",
      "|              state|                DE|                  23|\n",
      "|              state|                MO|                  24|\n",
      "|              state|                IL|                  25|\n",
      "|              state|                ME|                  26|\n",
      "|              state|                WA|                  27|\n",
      "|              state|                ND|                  28|\n",
      "|              state|                MS|                  29|\n",
      "|              state|                AL|                  30|\n",
      "|              state|                IN|                  31|\n",
      "|              state|                OH|                  32|\n",
      "|              state|                TN|                  33|\n",
      "|              state|                NM|                  34|\n",
      "|              state|                PA|                  35|\n",
      "|              state|                SD|                  36|\n",
      "|              state|                NY|                  37|\n",
      "|              state|                TX|                  38|\n",
      "|              state|                WV|                  39|\n",
      "|              state|                GA|                  40|\n",
      "|              state|                MA|                  41|\n",
      "|              state|                KS|                  42|\n",
      "|              state|                FL|                  43|\n",
      "|              state|                CO|                  44|\n",
      "|              state|                AK|                  45|\n",
      "|              state|                AR|                  46|\n",
      "|              state|                OK|                  47|\n",
      "|              state|                UT|                  48|\n",
      "|              state|                HI|                  49|\n",
      "|            purpose|           wedding|                   0|\n",
      "|            purpose|             other|                   1|\n",
      "|            purpose|    small_business|                   2|\n",
      "|            purpose|debt_consolidation|                   3|\n",
      "|            purpose|       credit_card|                   4|\n",
      "|            purpose|            moving|                   5|\n",
      "|            purpose|          vacation|                   6|\n",
      "|            purpose|  renewable_energy|                   7|\n",
      "|            purpose|             house|                   8|\n",
      "|            purpose|               car|                   9|\n",
      "|            purpose|    major_purchase|                  10|\n",
      "|            purpose|           medical|                  11|\n",
      "|            purpose|  home_improvement|                  12|\n",
      "|  grade_discretized|                 A|                 1-5|\n",
      "|  grade_discretized|                 B|                6-10|\n",
      "|  grade_discretized|                 C|               11-15|\n",
      "|  grade_discretized|                 D|               16-20|\n",
      "|  grade_discretized|                 E|               21-25|\n",
      "|  grade_discretized|                 F|               26-30|\n",
      "|  grade_discretized|                 G|               31-35|\n",
      "+-------------------+------------------+--------------------+\n",
      "\n"
     ]
    }
   ],
   "source": [
    "from pyspark.sql import functions as F\n",
    "from pyspark.sql import types as T\n",
    "\n",
    "def create_lookup_table(df):\n",
    "    lookup_entries = []\n",
    "\n",
    "    # Lookup for emp_length\n",
    "    emp_length_map = {\n",
    "        \"< 1 year\": 0, \"1 year\": 1, \"2 years\": 2, \"3 years\": 3, \n",
    "        \"4 years\": 4, \"5 years\": 5, \"6 years\": 6, \"7 years\": 7, \n",
    "        \"8 years\": 8, \"9 years\": 9, \"10+ years\": 10\n",
    "    }\n",
    "    for k, v in emp_length_map.items():\n",
    "        lookup_entries.append((\"emp_length\", k, str(v)))\n",
    "\n",
    "    # Lookup for home_ownership, verification_status, and type (One-Hot Encoded)\n",
    "    for col_name in [\"home_ownership\", \"verification_status\", \"type\"]:\n",
    "        unique_values = df.select(col_name).distinct().rdd.flatMap(lambda x: x).collect()\n",
    "        for value in unique_values:\n",
    "            one_hot_value = f\"{col_name}_{value}\".replace(\" \", \"_\").lower()\n",
    "            lookup_entries.append((col_name, value, one_hot_value))\n",
    "\n",
    "    # Lookup for state and purpose (Label Encoded)\n",
    "    for col_name in [\"state\", \"purpose\"]:\n",
    "        unique_values = df.select(col_name).distinct().rdd.flatMap(lambda x: x).collect()\n",
    "        for idx, value in enumerate(unique_values):\n",
    "            lookup_entries.append((col_name, value, str(idx)))\n",
    "\n",
    "    # Lookup for grade_discretized\n",
    "    grade_discretized_map = {\n",
    "        \"A\": \"1-5\", \"B\": \"6-10\", \"C\": \"11-15\", \n",
    "        \"D\": \"16-20\", \"E\": \"21-25\", \"F\": \"26-30\", \"G\": \"31-35\"\n",
    "    }\n",
    "    for k, v in grade_discretized_map.items():\n",
    "        lookup_entries.append((\"grade_discretized\", k, v))\n",
    "\n",
    "    # Convert to a DataFrame\n",
    "    lookup_schema = T.StructType([\n",
    "        T.StructField(\"column_name\", T.StringType(), True),\n",
    "        T.StructField(\"original_value\", T.StringType(), True),\n",
    "        T.StructField(\"encoded_value\", T.StringType(), True),\n",
    "    ])\n",
    "    lookup_df = spark.createDataFrame(lookup_entries, schema=lookup_schema)\n",
    "\n",
    "    return lookup_df\n",
    "\n",
    "\n",
    "lookup_table = create_lookup_table(df)\n",
    "\n",
    "\n",
    "lookup_table.show(100)\n",
    "\n",
    "# Save to Parquet\n",
    "lookup_table.write.mode(\"overwrite\").parquet(\"lookup_spark_52_21362.parquet\")\n"
   ]
  },
  {
   "cell_type": "code",
   "execution_count": 60,
   "id": "d969015b",
   "metadata": {},
   "outputs": [
    {
     "name": "stderr",
     "output_type": "stream",
     "text": [
      "                                                                                \r"
     ]
    }
   ],
   "source": [
    "df.write.parquet(\"fintech_spark_52_21362_clean.parquet\", mode=\"overwrite\") "
   ]
  },
  {
   "cell_type": "markdown",
   "id": "b988c76f",
   "metadata": {},
   "source": [
    "## 7 Bonus"
   ]
  },
  {
   "cell_type": "code",
   "execution_count": 61,
   "id": "dbd5fbd5",
   "metadata": {},
   "outputs": [
    {
     "name": "stdout",
     "output_type": "stream",
     "text": [
      "Connected to Database\n",
      "Both DataFrames saved to PostgreSQL!\n"
     ]
    }
   ],
   "source": [
    "from pyspark.sql import SparkSession\n",
    "import pandas as pd\n",
    "from sqlalchemy import create_engine\n",
    "\n",
    "\n",
    "df_pandas = df.toPandas()\n",
    "lookup_table_pandas = lookup_table.toPandas()\n",
    "\n",
    "# Database connection parameters\n",
    "db_user = \"dareen\"\n",
    "db_password = \"dareen\"\n",
    "db_host = \"localhost\"\n",
    "db_port = \"5432\"\n",
    "db_name = \"testdb\"\n",
    "\n",
    "# Create SQLAlchemy engine\n",
    "engine = create_engine(f\"postgresql+psycopg2://{db_user}:{db_password}@{db_host}:{db_port}/{db_name}\")\n",
    "if(engine.connect()):\n",
    "        print('Connected to Database')\n",
    "# Save DataFrame to PostgreSQL\n",
    "df_pandas.to_sql(\"cleaned_db\", engine, if_exists=\"replace\", index=False)\n",
    "lookup_table_pandas.to_sql(\"lookup_table\", engine, if_exists=\"replace\", index=False)\n",
    "\n",
    "print(\"Both DataFrames saved to PostgreSQL!\")\n"
   ]
  },
  {
   "cell_type": "code",
   "execution_count": 62,
   "id": "e69c7100",
   "metadata": {},
   "outputs": [],
   "source": [
    "spark.stop()"
   ]
  }
 ],
 "metadata": {
  "kernelspec": {
   "display_name": "myenv",
   "language": "python",
   "name": "python3"
  },
  "language_info": {
   "codemirror_mode": {
    "name": "ipython",
    "version": 3
   },
   "file_extension": ".py",
   "mimetype": "text/x-python",
   "name": "python",
   "nbconvert_exporter": "python",
   "pygments_lexer": "ipython3",
   "version": "3.12.3"
  }
 },
 "nbformat": 4,
 "nbformat_minor": 5
}
